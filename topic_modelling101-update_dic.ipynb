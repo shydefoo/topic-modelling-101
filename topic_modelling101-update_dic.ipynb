{
 "cells": [
  {
   "cell_type": "code",
   "execution_count": 2,
   "metadata": {},
   "outputs": [],
   "source": [
    "import os\n",
    "import pandas as pd\n",
    "import gensim\n",
    "import nltk\n",
    "import pickle\n",
    "\n",
    "from gensim.utils import simple_preprocess \n",
    "from gensim.parsing.preprocessing import STOPWORDS\n",
    "from nltk.stem import WordNetLemmatizer, SnowballStemmer\n",
    "from nltk.stem.porter import *\n",
    "import numpy as np\n",
    "np.random.seed(2018)\n",
    "stemmer = PorterStemmer()"
   ]
  },
  {
   "cell_type": "code",
   "execution_count": 12,
   "metadata": {},
   "outputs": [],
   "source": [
    "desktop = os.path.join(os.path.expanduser('~'), 'Desktop')\n",
    "large_file = os.path.join(desktop, 'large_file')\n",
    "processed_wiki_sub = os.path.join(large_file, 'processed_wiki_sub')\n",
    "postfix = 'abcdefghijklmno'\n",
    "text_path_prefix = os.path.join(processed_wiki_sub, 'processed_wiki.texta')"
   ]
  },
  {
   "cell_type": "code",
   "execution_count": 13,
   "metadata": {},
   "outputs": [],
   "source": [
    "def preprocess(text):\n",
    "    result = []\n",
    "    # convert document into list of lowercase tokens, filter based on token length\n",
    "    for token in simple_preprocess(text):\n",
    "        if token not in STOPWORDS and len(token) > 3:\n",
    "            result.append(token)\n",
    "    return result\n"
   ]
  },
  {
   "cell_type": "code",
   "execution_count": 14,
   "metadata": {},
   "outputs": [
    {
     "name": "stdout",
     "output_type": "stream",
     "text": [
      "adding articles from /Users/i355904/Desktop/large_file/processed_wiki_sub/processed_wiki.textaa\n",
      "wiki subpart added~\n",
      "adding articles from /Users/i355904/Desktop/large_file/processed_wiki_sub/processed_wiki.textab\n",
      "wiki subpart added~\n",
      "adding articles from /Users/i355904/Desktop/large_file/processed_wiki_sub/processed_wiki.textac\n",
      "wiki subpart added~\n",
      "adding articles from /Users/i355904/Desktop/large_file/processed_wiki_sub/processed_wiki.textad\n",
      "wiki subpart added~\n",
      "adding articles from /Users/i355904/Desktop/large_file/processed_wiki_sub/processed_wiki.textae\n",
      "wiki subpart added~\n",
      "adding articles from /Users/i355904/Desktop/large_file/processed_wiki_sub/processed_wiki.textaf\n",
      "wiki subpart added~\n",
      "adding articles from /Users/i355904/Desktop/large_file/processed_wiki_sub/processed_wiki.textag\n",
      "wiki subpart added~\n",
      "adding articles from /Users/i355904/Desktop/large_file/processed_wiki_sub/processed_wiki.textah\n",
      "wiki subpart added~\n",
      "adding articles from /Users/i355904/Desktop/large_file/processed_wiki_sub/processed_wiki.textai\n",
      "wiki subpart added~\n",
      "adding articles from /Users/i355904/Desktop/large_file/processed_wiki_sub/processed_wiki.textaj\n",
      "wiki subpart added~\n",
      "adding articles from /Users/i355904/Desktop/large_file/processed_wiki_sub/processed_wiki.textak\n",
      "wiki subpart added~\n",
      "adding articles from /Users/i355904/Desktop/large_file/processed_wiki_sub/processed_wiki.textal\n",
      "wiki subpart added~\n",
      "adding articles from /Users/i355904/Desktop/large_file/processed_wiki_sub/processed_wiki.textam\n",
      "wiki subpart added~\n",
      "adding articles from /Users/i355904/Desktop/large_file/processed_wiki_sub/processed_wiki.textan\n",
      "wiki subpart added~\n",
      "adding articles from /Users/i355904/Desktop/large_file/processed_wiki_sub/processed_wiki.textao\n",
      "wiki subpart added~\n"
     ]
    }
   ],
   "source": [
    "dictionary = gensim.corpora.Dictionary()\n",
    "bow_corpus = []\n",
    "for letter in postfix:\n",
    "    text_path = text_path_prefix+letter\n",
    "    with open(text_path, 'r') as file:\n",
    "        text = file.read()\n",
    "    line = text.split('\\n')\n",
    "    df = pd.DataFrame(line, columns = ['article'])\n",
    "    print(\"adding articles from {}\".format(text_path))\n",
    "    processed_docs = df['article'].map(preprocess)\n",
    "    print(\"wiki subpart added~\")\n",
    "    #print(\"sample article: {}, added!\".format(processed_docs[0]))\n",
    "    dictionary.add_documents(processed_docs)\n",
    "    dictionary.filter_extremes(no_below=15, no_above=0.5, keep_n=100000)\n",
    "    bow_corpus += [dictionary.doc2bow(doc) for doc in processed_docs] # bow rep for each article"
   ]
  },
  {
   "cell_type": "code",
   "execution_count": 15,
   "metadata": {},
   "outputs": [],
   "source": [
    "dictionary.save('dictionary.complete')"
   ]
  },
  {
   "cell_type": "code",
   "execution_count": 3,
   "metadata": {},
   "outputs": [
    {
     "ename": "NameError",
     "evalue": "name 'bow_corpus' is not defined",
     "output_type": "error",
     "traceback": [
      "\u001b[0;31m---------------------------------------------------------------------------\u001b[0m",
      "\u001b[0;31mNameError\u001b[0m                                 Traceback (most recent call last)",
      "\u001b[0;32m<ipython-input-3-d7ba3167438c>\u001b[0m in \u001b[0;36m<module>\u001b[0;34m()\u001b[0m\n\u001b[1;32m      1\u001b[0m \u001b[0;32mwith\u001b[0m \u001b[0mopen\u001b[0m\u001b[0;34m(\u001b[0m\u001b[0;34m'bow_corpus_complete.pkl'\u001b[0m\u001b[0;34m,\u001b[0m\u001b[0;34m'wb'\u001b[0m\u001b[0;34m)\u001b[0m \u001b[0;32mas\u001b[0m \u001b[0mfile\u001b[0m\u001b[0;34m:\u001b[0m\u001b[0;34m\u001b[0m\u001b[0m\n\u001b[0;32m----> 2\u001b[0;31m     \u001b[0mpickle\u001b[0m\u001b[0;34m.\u001b[0m\u001b[0mdump\u001b[0m\u001b[0;34m(\u001b[0m\u001b[0mbow_corpus\u001b[0m\u001b[0;34m,\u001b[0m\u001b[0mfile\u001b[0m\u001b[0;34m)\u001b[0m\u001b[0;34m\u001b[0m\u001b[0m\n\u001b[0m",
      "\u001b[0;31mNameError\u001b[0m: name 'bow_corpus' is not defined"
     ]
    }
   ],
   "source": [
    "with open('bow_corpus_complete.pkl','wb') as file:\n",
    "    pickle.dump(bow_corpus,file)"
   ]
  },
  {
   "cell_type": "code",
   "execution_count": 4,
   "metadata": {},
   "outputs": [
    {
     "ename": "NameError",
     "evalue": "name 'bow_corpus' is not defined",
     "output_type": "error",
     "traceback": [
      "\u001b[0;31m---------------------------------------------------------------------------\u001b[0m",
      "\u001b[0;31mNameError\u001b[0m                                 Traceback (most recent call last)",
      "\u001b[0;32m<ipython-input-4-a3339d4fefb1>\u001b[0m in \u001b[0;36m<module>\u001b[0;34m()\u001b[0m\n\u001b[1;32m      1\u001b[0m \u001b[0;32mfrom\u001b[0m \u001b[0mgensim\u001b[0m\u001b[0;34m.\u001b[0m\u001b[0mmodels\u001b[0m \u001b[0;32mimport\u001b[0m \u001b[0mLdaMulticore\u001b[0m\u001b[0;34m\u001b[0m\u001b[0m\n\u001b[0;32m----> 2\u001b[0;31m \u001b[0mlda_model\u001b[0m \u001b[0;34m=\u001b[0m \u001b[0mLdaMulticore\u001b[0m\u001b[0;34m(\u001b[0m\u001b[0mbow_corpus\u001b[0m\u001b[0;34m,\u001b[0m \u001b[0mnum_topics\u001b[0m\u001b[0;34m=\u001b[0m\u001b[0;36m300\u001b[0m\u001b[0;34m,\u001b[0m \u001b[0mid2word\u001b[0m\u001b[0;34m=\u001b[0m\u001b[0mdictionary\u001b[0m\u001b[0;34m,\u001b[0m \u001b[0mpasses\u001b[0m\u001b[0;34m=\u001b[0m\u001b[0;36m2\u001b[0m\u001b[0;34m,\u001b[0m \u001b[0mworkers\u001b[0m\u001b[0;34m=\u001b[0m\u001b[0;36m8\u001b[0m\u001b[0;34m)\u001b[0m\u001b[0;34m\u001b[0m\u001b[0m\n\u001b[0m",
      "\u001b[0;31mNameError\u001b[0m: name 'bow_corpus' is not defined"
     ]
    }
   ],
   "source": [
    "from gensim.models import LdaMulticore\n",
    "lda_model = LdaMulticore(bow_corpus, num_topics=300, id2word=dictionary, passes=2, workers=8)"
   ]
  },
  {
   "cell_type": "code",
   "execution_count": null,
   "metadata": {},
   "outputs": [],
   "source": [
    "lda_model.save('model_complete/lda_full_corpus.model')"
   ]
  },
  {
   "cell_type": "code",
   "execution_count": 184,
   "metadata": {
    "scrolled": true
   },
   "outputs": [
    {
     "name": "stdout",
     "output_type": "stream",
     "text": [
      "Topic: 0 \n",
      "Words: 0.010*\"puerto\" + 0.007*\"rico\" + 0.005*\"univers\" + 0.004*\"alabama\" + 0.004*\"citi\" + 0.003*\"counti\" + 0.003*\"rican\" + 0.003*\"world\" + 0.003*\"star\" + 0.003*\"nation\"\n",
      "Topic: 1 \n",
      "Words: 0.016*\"bridg\" + 0.011*\"citi\" + 0.008*\"canal\" + 0.005*\"build\" + 0.004*\"river\" + 0.002*\"road\" + 0.002*\"nation\" + 0.002*\"construct\" + 0.002*\"develop\" + 0.002*\"south\"\n",
      "Topic: 2 \n",
      "Words: 0.005*\"test\" + 0.004*\"club\" + 0.003*\"cricket\" + 0.003*\"play\" + 0.003*\"australia\" + 0.003*\"centuri\" + 0.003*\"match\" + 0.003*\"nation\" + 0.002*\"record\" + 0.002*\"world\"\n",
      "Topic: 3 \n",
      "Words: 0.012*\"citi\" + 0.009*\"church\" + 0.006*\"centuri\" + 0.006*\"town\" + 0.006*\"counti\" + 0.005*\"popul\" + 0.005*\"french\" + 0.004*\"german\" + 0.004*\"municip\" + 0.004*\"build\"\n",
      "Topic: 4 \n",
      "Words: 0.006*\"john\" + 0.005*\"william\" + 0.005*\"bear\" + 0.005*\"king\" + 0.005*\"english\" + 0.005*\"henri\" + 0.004*\"georg\" + 0.004*\"compos\" + 0.003*\"princ\" + 0.003*\"charl\"\n",
      "Topic: 5 \n",
      "Words: 0.004*\"wear\" + 0.003*\"design\" + 0.003*\"form\" + 0.003*\"power\" + 0.003*\"coin\" + 0.003*\"centuri\" + 0.002*\"work\" + 0.002*\"hand\" + 0.002*\"brake\" + 0.002*\"knot\"\n",
      "Topic: 6 \n",
      "Words: 0.018*\"film\" + 0.010*\"award\" + 0.004*\"best\" + 0.004*\"world\" + 0.003*\"work\" + 0.003*\"later\" + 0.003*\"king\" + 0.003*\"order\" + 0.003*\"academi\" + 0.003*\"music\"\n",
      "Topic: 7 \n",
      "Words: 0.003*\"nation\" + 0.003*\"countri\" + 0.003*\"govern\" + 0.003*\"gener\" + 0.003*\"univers\" + 0.003*\"develop\" + 0.002*\"work\" + 0.002*\"world\" + 0.002*\"follow\" + 0.002*\"counti\"\n",
      "Topic: 8 \n",
      "Words: 0.008*\"stori\" + 0.008*\"book\" + 0.007*\"write\" + 0.007*\"novel\" + 0.006*\"publish\" + 0.006*\"work\" + 0.005*\"charact\" + 0.004*\"comic\" + 0.004*\"seri\" + 0.004*\"life\"\n",
      "Topic: 9 \n",
      "Words: 0.003*\"build\" + 0.003*\"work\" + 0.002*\"follow\" + 0.002*\"world\" + 0.002*\"citi\" + 0.002*\"nation\" + 0.002*\"group\" + 0.002*\"countri\" + 0.002*\"form\" + 0.002*\"oper\"\n",
      "Topic: 10 \n",
      "Words: 0.016*\"smith\" + 0.004*\"soviet\" + 0.004*\"work\" + 0.003*\"afghanistan\" + 0.003*\"world\" + 0.003*\"phoenix\" + 0.003*\"nation\" + 0.002*\"forc\" + 0.002*\"gener\" + 0.002*\"citi\"\n",
      "Topic: 11 \n",
      "Words: 0.011*\"orbit\" + 0.007*\"space\" + 0.007*\"earth\" + 0.005*\"mission\" + 0.005*\"spacecraft\" + 0.005*\"moon\" + 0.005*\"launch\" + 0.004*\"planet\" + 0.003*\"nasa\" + 0.003*\"apollo\"\n",
      "Topic: 12 \n",
      "Words: 0.003*\"distribut\" + 0.003*\"island\" + 0.003*\"gener\" + 0.003*\"world\" + 0.003*\"work\" + 0.003*\"nation\" + 0.002*\"author\" + 0.002*\"countri\" + 0.002*\"game\" + 0.002*\"german\"\n",
      "Topic: 13 \n",
      "Words: 0.012*\"seri\" + 0.011*\"episod\" + 0.007*\"film\" + 0.007*\"star\" + 0.006*\"anim\" + 0.006*\"charact\" + 0.005*\"season\" + 0.005*\"releas\" + 0.005*\"appear\" + 0.004*\"televis\"\n",
      "Topic: 14 \n",
      "Words: 0.008*\"speci\" + 0.006*\"sexual\" + 0.005*\"anim\" + 0.004*\"human\" + 0.004*\"male\" + 0.004*\"femal\" + 0.003*\"studi\" + 0.003*\"differ\" + 0.003*\"like\" + 0.003*\"genet\"\n",
      "Topic: 15 \n",
      "Words: 0.008*\"english\" + 0.008*\"french\" + 0.006*\"politician\" + 0.005*\"singer\" + 0.005*\"german\" + 0.005*\"author\" + 0.004*\"poet\" + 0.004*\"player\" + 0.004*\"bear\" + 0.003*\"songwrit\"\n",
      "Topic: 16 \n",
      "Words: 0.007*\"roman\" + 0.005*\"gener\" + 0.004*\"rome\" + 0.003*\"univers\" + 0.003*\"power\" + 0.002*\"centuri\" + 0.002*\"develop\" + 0.002*\"offic\" + 0.002*\"write\" + 0.002*\"work\"\n",
      "Topic: 17 \n",
      "Words: 0.007*\"scout\" + 0.003*\"work\" + 0.003*\"centuri\" + 0.003*\"build\" + 0.003*\"zealand\" + 0.003*\"world\" + 0.002*\"church\" + 0.002*\"life\" + 0.002*\"saint\" + 0.002*\"nation\"\n",
      "Topic: 18 \n",
      "Words: 0.011*\"parti\" + 0.008*\"govern\" + 0.008*\"elect\" + 0.006*\"polit\" + 0.005*\"minist\" + 0.005*\"member\" + 0.005*\"nation\" + 0.005*\"presid\" + 0.005*\"right\" + 0.004*\"court\"\n",
      "Topic: 19 \n",
      "Words: 0.007*\"calendar\" + 0.004*\"sail\" + 0.004*\"month\" + 0.003*\"languag\" + 0.003*\"world\" + 0.003*\"begin\" + 0.003*\"ship\" + 0.003*\"work\" + 0.002*\"sami\" + 0.002*\"star\"\n",
      "Topic: 20 \n",
      "Words: 0.022*\"popul\" + 0.014*\"municip\" + 0.013*\"citi\" + 0.008*\"femal\" + 0.008*\"town\" + 0.006*\"male\" + 0.006*\"censu\" + 0.004*\"averag\" + 0.004*\"african\" + 0.004*\"household\"\n",
      "Topic: 21 \n",
      "Words: 0.015*\"languag\" + 0.006*\"word\" + 0.004*\"theori\" + 0.004*\"write\" + 0.004*\"exampl\" + 0.004*\"form\" + 0.004*\"english\" + 0.004*\"differ\" + 0.003*\"develop\" + 0.003*\"human\"\n",
      "Topic: 22 \n",
      "Words: 0.013*\"china\" + 0.009*\"nation\" + 0.008*\"chines\" + 0.005*\"taiwan\" + 0.005*\"citi\" + 0.004*\"world\" + 0.003*\"govern\" + 0.003*\"japanes\" + 0.003*\"univers\" + 0.002*\"gener\"\n",
      "Topic: 23 \n",
      "Words: 0.017*\"island\" + 0.005*\"park\" + 0.005*\"nation\" + 0.005*\"citi\" + 0.005*\"north\" + 0.005*\"build\" + 0.005*\"municip\" + 0.005*\"south\" + 0.005*\"river\" + 0.004*\"region\"\n",
      "Topic: 24 \n",
      "Words: 0.009*\"econom\" + 0.007*\"social\" + 0.006*\"develop\" + 0.006*\"countri\" + 0.005*\"world\" + 0.004*\"work\" + 0.004*\"group\" + 0.004*\"cultur\" + 0.004*\"popul\" + 0.004*\"economi\"\n",
      "Topic: 25 \n",
      "Words: 0.004*\"work\" + 0.003*\"world\" + 0.002*\"base\" + 0.002*\"play\" + 0.002*\"write\" + 0.002*\"univers\" + 0.002*\"later\" + 0.002*\"centuri\" + 0.002*\"group\" + 0.002*\"film\"\n",
      "Topic: 26 \n",
      "Words: 0.010*\"number\" + 0.008*\"function\" + 0.006*\"point\" + 0.006*\"theori\" + 0.006*\"gener\" + 0.005*\"space\" + 0.005*\"exampl\" + 0.005*\"group\" + 0.005*\"valu\" + 0.004*\"equat\"\n",
      "Topic: 27 \n",
      "Words: 0.027*\"film\" + 0.010*\"star\" + 0.009*\"actor\" + 0.007*\"best\" + 0.007*\"award\" + 0.006*\"direct\" + 0.006*\"actress\" + 0.005*\"director\" + 0.004*\"role\" + 0.004*\"pictur\"\n",
      "Topic: 28 \n",
      "Words: 0.008*\"jewish\" + 0.005*\"templ\" + 0.004*\"rabbi\" + 0.003*\"tradit\" + 0.003*\"centuri\" + 0.003*\"hebrew\" + 0.003*\"israel\" + 0.003*\"woman\" + 0.003*\"religi\" + 0.003*\"judaism\"\n",
      "Topic: 29 \n",
      "Words: 0.051*\"household\" + 0.035*\"popul\" + 0.029*\"femal\" + 0.029*\"median\" + 0.028*\"censu\" + 0.026*\"incom\" + 0.025*\"averag\" + 0.023*\"male\" + 0.022*\"town\" + 0.021*\"race\"\n",
      "Topic: 30 \n",
      "Words: 0.015*\"presid\" + 0.007*\"senat\" + 0.006*\"elect\" + 0.005*\"vote\" + 0.005*\"parti\" + 0.005*\"democrat\" + 0.005*\"presidenti\" + 0.004*\"mario\" + 0.004*\"nation\" + 0.004*\"vice\"\n",
      "Topic: 31 \n",
      "Words: 0.005*\"group\" + 0.004*\"gener\" + 0.003*\"ethiopia\" + 0.003*\"elect\" + 0.003*\"nation\" + 0.003*\"govern\" + 0.003*\"citi\" + 0.002*\"languag\" + 0.002*\"function\" + 0.002*\"chang\"\n",
      "Topic: 32 \n",
      "Words: 0.007*\"english\" + 0.005*\"greek\" + 0.004*\"french\" + 0.004*\"author\" + 0.004*\"player\" + 0.004*\"gener\" + 0.004*\"ukrainian\" + 0.004*\"footbal\" + 0.004*\"politician\" + 0.003*\"languag\"\n",
      "Topic: 33 \n",
      "Words: 0.011*\"german\" + 0.006*\"germani\" + 0.006*\"soviet\" + 0.004*\"nation\" + 0.004*\"poland\" + 0.003*\"citi\" + 0.003*\"polish\" + 0.003*\"berlin\" + 0.003*\"forc\" + 0.003*\"countri\"\n",
      "Topic: 34 \n",
      "Words: 0.003*\"gener\" + 0.003*\"form\" + 0.003*\"world\" + 0.003*\"languag\" + 0.003*\"countri\" + 0.003*\"citi\" + 0.002*\"nation\" + 0.002*\"later\" + 0.002*\"call\" + 0.002*\"begin\"\n",
      "Topic: 35 \n",
      "Words: 0.004*\"citi\" + 0.003*\"number\" + 0.002*\"univers\" + 0.002*\"later\" + 0.002*\"world\" + 0.002*\"govern\" + 0.002*\"form\" + 0.002*\"call\" + 0.002*\"gener\" + 0.002*\"german\"\n",
      "Topic: 36 \n",
      "Words: 0.005*\"caus\" + 0.005*\"medic\" + 0.004*\"effect\" + 0.004*\"diseas\" + 0.004*\"patient\" + 0.004*\"treatment\" + 0.004*\"blood\" + 0.004*\"drug\" + 0.004*\"studi\" + 0.003*\"person\"\n",
      "Topic: 37 \n",
      "Words: 0.015*\"music\" + 0.008*\"sound\" + 0.005*\"work\" + 0.004*\"frequenc\" + 0.004*\"instrument\" + 0.004*\"perform\" + 0.004*\"signal\" + 0.004*\"note\" + 0.003*\"compos\" + 0.003*\"record\"\n",
      "Topic: 38 \n",
      "Words: 0.003*\"game\" + 0.003*\"centuri\" + 0.003*\"world\" + 0.003*\"mean\" + 0.003*\"dragon\" + 0.003*\"form\" + 0.003*\"tradit\" + 0.003*\"call\" + 0.002*\"life\" + 0.002*\"king\"\n",
      "Topic: 39 \n",
      "Words: 0.006*\"program\" + 0.006*\"code\" + 0.006*\"data\" + 0.005*\"function\" + 0.004*\"object\" + 0.004*\"languag\" + 0.004*\"exampl\" + 0.004*\"gener\" + 0.004*\"implement\" + 0.004*\"oper\"\n",
      "Topic: 40 \n",
      "Words: 0.005*\"parti\" + 0.005*\"element\" + 0.004*\"elect\" + 0.004*\"form\" + 0.003*\"number\" + 0.002*\"group\" + 0.002*\"vote\" + 0.002*\"work\" + 0.002*\"english\" + 0.002*\"call\"\n",
      "Topic: 41 \n",
      "Words: 0.008*\"book\" + 0.004*\"work\" + 0.004*\"write\" + 0.004*\"univers\" + 0.003*\"author\" + 0.003*\"publish\" + 0.003*\"world\" + 0.003*\"scienc\" + 0.003*\"life\" + 0.002*\"critic\"\n",
      "Topic: 42 \n",
      "Words: 0.003*\"univers\" + 0.003*\"gener\" + 0.002*\"form\" + 0.002*\"write\" + 0.002*\"citi\" + 0.002*\"group\" + 0.002*\"work\" + 0.002*\"number\" + 0.002*\"world\" + 0.002*\"viru\"\n",
      "Topic: 43 \n",
      "Words: 0.007*\"airlin\" + 0.007*\"univers\" + 0.006*\"compani\" + 0.005*\"engin\" + 0.005*\"aircraft\" + 0.005*\"oper\" + 0.005*\"student\" + 0.004*\"program\" + 0.004*\"flight\" + 0.004*\"servic\"\n",
      "Topic: 44 \n",
      "Words: 0.009*\"centuri\" + 0.006*\"citi\" + 0.004*\"empir\" + 0.004*\"greek\" + 0.004*\"period\" + 0.003*\"roman\" + 0.003*\"king\" + 0.003*\"ancient\" + 0.003*\"build\" + 0.003*\"cultur\"\n",
      "Topic: 45 \n",
      "Words: 0.009*\"india\" + 0.009*\"countri\" + 0.008*\"relat\" + 0.006*\"embassi\" + 0.005*\"govern\" + 0.005*\"nation\" + 0.004*\"indian\" + 0.003*\"establish\" + 0.003*\"diplomat\" + 0.003*\"trade\"\n",
      "Topic: 46 \n",
      "Words: 0.009*\"work\" + 0.006*\"write\" + 0.005*\"book\" + 0.005*\"church\" + 0.004*\"centuri\" + 0.004*\"life\" + 0.004*\"christian\" + 0.004*\"univers\" + 0.003*\"translat\" + 0.003*\"publish\"\n",
      "Topic: 47 \n",
      "Words: 0.011*\"engin\" + 0.005*\"oper\" + 0.005*\"railway\" + 0.005*\"train\" + 0.005*\"airport\" + 0.005*\"road\" + 0.005*\"rout\" + 0.005*\"design\" + 0.005*\"station\" + 0.005*\"servic\"\n",
      "Topic: 48 \n",
      "Words: 0.007*\"instrument\" + 0.006*\"string\" + 0.005*\"piano\" + 0.005*\"play\" + 0.004*\"work\" + 0.004*\"bass\" + 0.003*\"music\" + 0.003*\"centuri\" + 0.003*\"group\" + 0.003*\"write\"\n",
      "Topic: 49 \n",
      "Words: 0.005*\"game\" + 0.004*\"island\" + 0.003*\"world\" + 0.003*\"citi\" + 0.003*\"nation\" + 0.003*\"develop\" + 0.002*\"group\" + 0.002*\"gener\" + 0.002*\"centuri\" + 0.002*\"palm\"\n",
      "Topic: 50 \n",
      "Words: 0.004*\"citi\" + 0.004*\"fruit\" + 0.002*\"univers\" + 0.002*\"form\" + 0.002*\"call\" + 0.002*\"mexico\" + 0.002*\"work\" + 0.002*\"world\" + 0.002*\"develop\" + 0.002*\"centuri\"\n",
      "Topic: 51 \n",
      "Words: 0.011*\"chines\" + 0.008*\"dynasti\" + 0.008*\"roman\" + 0.006*\"china\" + 0.005*\"emperor\" + 0.005*\"egypt\" + 0.004*\"citi\" + 0.004*\"battl\" + 0.004*\"king\" + 0.003*\"centuri\"\n",
      "Topic: 52 \n",
      "Words: 0.007*\"london\" + 0.005*\"play\" + 0.004*\"film\" + 0.004*\"work\" + 0.003*\"write\" + 0.003*\"life\" + 0.003*\"centuri\" + 0.002*\"later\" + 0.002*\"nation\" + 0.002*\"shakespear\"\n",
      "Topic: 53 \n",
      "Words: 0.005*\"citi\" + 0.004*\"work\" + 0.004*\"world\" + 0.004*\"museum\" + 0.003*\"univers\" + 0.003*\"paint\" + 0.003*\"record\" + 0.003*\"gener\" + 0.002*\"nation\" + 0.002*\"artist\"\n",
      "Topic: 54 \n",
      "Words: 0.007*\"london\" + 0.006*\"ireland\" + 0.005*\"build\" + 0.005*\"centuri\" + 0.005*\"town\" + 0.005*\"centr\" + 0.004*\"irish\" + 0.004*\"castl\" + 0.004*\"west\" + 0.004*\"england\"\n",
      "Topic: 55 \n",
      "Words: 0.005*\"food\" + 0.003*\"type\" + 0.003*\"plant\" + 0.003*\"cook\" + 0.003*\"dish\" + 0.003*\"product\" + 0.003*\"produc\" + 0.003*\"call\" + 0.003*\"tradit\" + 0.002*\"rice\"\n",
      "Topic: 56 \n",
      "Words: 0.009*\"water\" + 0.005*\"form\" + 0.004*\"temperatur\" + 0.004*\"speci\" + 0.004*\"plant\" + 0.004*\"acid\" + 0.004*\"heat\" + 0.004*\"produc\" + 0.003*\"product\" + 0.003*\"energi\"\n",
      "Topic: 57 \n",
      "Words: 0.010*\"aircraft\" + 0.008*\"forc\" + 0.007*\"ship\" + 0.006*\"oper\" + 0.004*\"navi\" + 0.004*\"command\" + 0.004*\"servic\" + 0.004*\"design\" + 0.004*\"base\" + 0.004*\"flight\"\n",
      "Topic: 58 \n",
      "Words: 0.007*\"player\" + 0.006*\"card\" + 0.004*\"hand\" + 0.004*\"game\" + 0.004*\"play\" + 0.004*\"fight\" + 0.003*\"world\" + 0.002*\"gener\" + 0.002*\"base\" + 0.002*\"english\"\n",
      "Topic: 59 \n",
      "Words: 0.003*\"centuri\" + 0.003*\"wine\" + 0.003*\"produc\" + 0.003*\"world\" + 0.003*\"game\" + 0.003*\"card\" + 0.003*\"nation\" + 0.003*\"number\" + 0.002*\"gener\" + 0.002*\"develop\"\n",
      "Topic: 60 \n",
      "Words: 0.007*\"court\" + 0.004*\"case\" + 0.003*\"centuri\" + 0.003*\"power\" + 0.003*\"develop\" + 0.003*\"base\" + 0.002*\"common\" + 0.002*\"group\" + 0.002*\"judg\" + 0.002*\"bear\"\n",
      "Topic: 61 \n",
      "Words: 0.004*\"lotu\" + 0.003*\"form\" + 0.003*\"number\" + 0.003*\"write\" + 0.003*\"call\" + 0.002*\"gener\" + 0.002*\"second\" + 0.002*\"centuri\" + 0.002*\"base\" + 0.002*\"differ\"\n",
      "Topic: 62 \n",
      "Words: 0.012*\"south\" + 0.007*\"africa\" + 0.007*\"korea\" + 0.006*\"countri\" + 0.005*\"nation\" + 0.005*\"relat\" + 0.004*\"north\" + 0.004*\"govern\" + 0.004*\"african\" + 0.004*\"korean\"\n",
      "Topic: 63 \n",
      "Words: 0.008*\"king\" + 0.004*\"saxon\" + 0.003*\"centuri\" + 0.003*\"write\" + 0.003*\"later\" + 0.003*\"kingdom\" + 0.003*\"anglo\" + 0.002*\"england\" + 0.002*\"battl\" + 0.002*\"nors\"\n",
      "Topic: 64 \n",
      "Words: 0.019*\"citi\" + 0.018*\"counti\" + 0.013*\"school\" + 0.011*\"township\" + 0.007*\"district\" + 0.007*\"popul\" + 0.006*\"river\" + 0.005*\"town\" + 0.005*\"north\" + 0.005*\"household\"\n",
      "Topic: 65 \n",
      "Words: 0.026*\"school\" + 0.009*\"colleg\" + 0.005*\"univers\" + 0.004*\"student\" + 0.004*\"educ\" + 0.004*\"high\" + 0.003*\"librari\" + 0.003*\"citi\" + 0.003*\"public\" + 0.003*\"nation\"\n",
      "Topic: 66 \n",
      "Words: 0.006*\"emperor\" + 0.004*\"film\" + 0.003*\"japan\" + 0.003*\"imperi\" + 0.003*\"church\" + 0.002*\"later\" + 0.002*\"order\" + 0.002*\"king\" + 0.002*\"earli\" + 0.002*\"pope\"\n",
      "Topic: 67 \n",
      "Words: 0.004*\"properti\" + 0.003*\"group\" + 0.002*\"record\" + 0.002*\"base\" + 0.002*\"person\" + 0.002*\"exampl\" + 0.002*\"work\" + 0.002*\"gener\" + 0.002*\"inform\" + 0.002*\"nation\"\n",
      "Topic: 68 \n",
      "Words: 0.003*\"citi\" + 0.003*\"world\" + 0.003*\"nation\" + 0.002*\"languag\" + 0.002*\"form\" + 0.002*\"work\" + 0.002*\"centuri\" + 0.002*\"gener\" + 0.002*\"oper\" + 0.002*\"univers\"\n",
      "Topic: 69 \n",
      "Words: 0.018*\"citi\" + 0.016*\"univers\" + 0.013*\"build\" + 0.011*\"colleg\" + 0.009*\"school\" + 0.008*\"student\" + 0.006*\"campu\" + 0.005*\"center\" + 0.004*\"hall\" + 0.003*\"design\"\n",
      "Topic: 70 \n",
      "Words: 0.013*\"armi\" + 0.012*\"forc\" + 0.008*\"militari\" + 0.007*\"command\" + 0.006*\"battl\" + 0.006*\"divis\" + 0.005*\"oper\" + 0.005*\"gener\" + 0.005*\"british\" + 0.005*\"attack\"\n",
      "Topic: 71 \n",
      "Words: 0.005*\"episod\" + 0.005*\"televis\" + 0.004*\"seri\" + 0.004*\"world\" + 0.004*\"play\" + 0.003*\"news\" + 0.003*\"later\" + 0.003*\"life\" + 0.003*\"appear\" + 0.003*\"york\"\n",
      "Topic: 72 \n",
      "Words: 0.009*\"file\" + 0.007*\"window\" + 0.006*\"version\" + 0.006*\"user\" + 0.006*\"chess\" + 0.005*\"support\" + 0.004*\"server\" + 0.004*\"develop\" + 0.003*\"softwar\" + 0.003*\"releas\"\n",
      "Topic: 73 \n",
      "Words: 0.016*\"star\" + 0.004*\"group\" + 0.003*\"light\" + 0.003*\"constel\" + 0.003*\"telescop\" + 0.003*\"form\" + 0.003*\"galaxi\" + 0.003*\"work\" + 0.002*\"intern\" + 0.002*\"observ\"\n",
      "Topic: 74 \n",
      "Words: 0.012*\"network\" + 0.008*\"radio\" + 0.007*\"servic\" + 0.007*\"channel\" + 0.007*\"broadcast\" + 0.006*\"station\" + 0.006*\"televis\" + 0.005*\"data\" + 0.005*\"commun\" + 0.005*\"provid\"\n",
      "Topic: 75 \n",
      "Words: 0.007*\"nuclear\" + 0.004*\"number\" + 0.004*\"nation\" + 0.004*\"text\" + 0.003*\"counti\" + 0.003*\"reactor\" + 0.003*\"north\" + 0.003*\"till\" + 0.003*\"popul\" + 0.002*\"gener\"\n",
      "Topic: 76 \n",
      "Words: 0.007*\"philippin\" + 0.005*\"world\" + 0.004*\"nation\" + 0.003*\"gener\" + 0.003*\"univers\" + 0.003*\"member\" + 0.003*\"manila\" + 0.003*\"group\" + 0.003*\"intern\" + 0.002*\"call\"\n",
      "Topic: 77 \n",
      "Words: 0.004*\"len\" + 0.003*\"univers\" + 0.003*\"nation\" + 0.002*\"gener\" + 0.002*\"work\" + 0.002*\"german\" + 0.002*\"form\" + 0.002*\"number\" + 0.002*\"world\" + 0.002*\"parti\"\n",
      "Topic: 78 \n",
      "Words: 0.017*\"album\" + 0.014*\"record\" + 0.014*\"music\" + 0.012*\"band\" + 0.010*\"song\" + 0.009*\"releas\" + 0.007*\"perform\" + 0.005*\"tour\" + 0.005*\"rock\" + 0.005*\"singl\"\n",
      "Topic: 79 \n",
      "Words: 0.003*\"gener\" + 0.003*\"forc\" + 0.003*\"film\" + 0.003*\"citi\" + 0.002*\"follow\" + 0.002*\"world\" + 0.002*\"group\" + 0.002*\"power\" + 0.002*\"base\" + 0.002*\"speci\"\n",
      "Topic: 80 \n",
      "Words: 0.004*\"proton\" + 0.003*\"forc\" + 0.003*\"german\" + 0.003*\"citi\" + 0.003*\"neutron\" + 0.003*\"univers\" + 0.002*\"gener\" + 0.002*\"film\" + 0.002*\"space\" + 0.002*\"group\"\n",
      "Topic: 81 \n",
      "Words: 0.015*\"king\" + 0.006*\"emperor\" + 0.005*\"john\" + 0.005*\"death\" + 0.004*\"empir\" + 0.004*\"battl\" + 0.003*\"die\" + 0.003*\"roman\" + 0.003*\"charl\" + 0.003*\"forc\"\n",
      "Topic: 82 \n",
      "Words: 0.006*\"design\" + 0.005*\"model\" + 0.004*\"devic\" + 0.004*\"type\" + 0.003*\"machin\" + 0.003*\"control\" + 0.003*\"gener\" + 0.003*\"form\" + 0.003*\"standard\" + 0.003*\"high\"\n",
      "Topic: 83 \n",
      "Words: 0.010*\"israel\" + 0.008*\"isra\" + 0.006*\"palestinian\" + 0.004*\"nation\" + 0.004*\"arab\" + 0.003*\"jordan\" + 0.003*\"palestin\" + 0.003*\"jewish\" + 0.003*\"countri\" + 0.002*\"church\"\n",
      "Topic: 84 \n",
      "Words: 0.003*\"athen\" + 0.003*\"nation\" + 0.003*\"genu\" + 0.003*\"group\" + 0.002*\"speci\" + 0.002*\"island\" + 0.002*\"mapl\" + 0.002*\"film\" + 0.002*\"school\" + 0.002*\"form\"\n",
      "Topic: 85 \n",
      "Words: 0.003*\"citi\" + 0.003*\"nation\" + 0.003*\"univers\" + 0.003*\"film\" + 0.002*\"gener\" + 0.002*\"world\" + 0.002*\"develop\" + 0.002*\"power\" + 0.002*\"countri\" + 0.002*\"work\"\n",
      "Topic: 86 \n",
      "Words: 0.011*\"counti\" + 0.009*\"citi\" + 0.007*\"household\" + 0.005*\"popul\" + 0.004*\"bear\" + 0.004*\"median\" + 0.003*\"censu\" + 0.003*\"femal\" + 0.003*\"densiti\" + 0.003*\"incom\"\n",
      "Topic: 87 \n",
      "Words: 0.020*\"counti\" + 0.011*\"school\" + 0.011*\"citi\" + 0.009*\"popul\" + 0.009*\"town\" + 0.007*\"park\" + 0.005*\"north\" + 0.005*\"household\" + 0.005*\"west\" + 0.005*\"south\"\n",
      "Topic: 88 \n",
      "Words: 0.003*\"univers\" + 0.003*\"number\" + 0.003*\"nation\" + 0.003*\"citi\" + 0.003*\"govern\" + 0.003*\"countri\" + 0.003*\"languag\" + 0.003*\"gener\" + 0.003*\"centuri\" + 0.002*\"intern\"\n",
      "Topic: 89 \n",
      "Words: 0.011*\"citi\" + 0.005*\"popul\" + 0.004*\"breed\" + 0.004*\"centuri\" + 0.004*\"council\" + 0.003*\"spanish\" + 0.003*\"town\" + 0.003*\"counti\" + 0.003*\"region\" + 0.003*\"north\"\n",
      "Topic: 90 \n",
      "Words: 0.015*\"church\" + 0.004*\"order\" + 0.003*\"christian\" + 0.003*\"univers\" + 0.003*\"book\" + 0.003*\"languag\" + 0.003*\"gener\" + 0.003*\"form\" + 0.002*\"work\" + 0.002*\"cathol\"\n",
      "Topic: 91 \n",
      "Words: 0.005*\"rifl\" + 0.005*\"dutch\" + 0.004*\"russian\" + 0.004*\"bear\" + 0.004*\"citi\" + 0.003*\"number\" + 0.003*\"netherland\" + 0.003*\"lake\" + 0.003*\"world\" + 0.003*\"gener\"\n",
      "Topic: 92 \n",
      "Words: 0.005*\"river\" + 0.004*\"world\" + 0.004*\"bear\" + 0.003*\"citi\" + 0.003*\"nation\" + 0.003*\"develop\" + 0.003*\"gener\" + 0.002*\"south\" + 0.002*\"park\" + 0.002*\"german\"\n",
      "Topic: 93 \n",
      "Words: 0.003*\"gener\" + 0.003*\"work\" + 0.003*\"race\" + 0.002*\"world\" + 0.002*\"follow\" + 0.002*\"write\" + 0.002*\"game\" + 0.002*\"group\" + 0.002*\"like\" + 0.002*\"play\"\n",
      "Topic: 94 \n",
      "Words: 0.009*\"open\" + 0.008*\"hors\" + 0.005*\"champion\" + 0.005*\"world\" + 0.005*\"australian\" + 0.004*\"william\" + 0.004*\"moon\" + 0.004*\"singl\" + 0.004*\"doubl\" + 0.004*\"titl\"\n",
      "Topic: 95 \n",
      "Words: 0.023*\"game\" + 0.014*\"team\" + 0.013*\"player\" + 0.010*\"season\" + 0.008*\"play\" + 0.008*\"leagu\" + 0.006*\"footbal\" + 0.006*\"world\" + 0.005*\"championship\" + 0.005*\"final\"\n",
      "Topic: 96 \n",
      "Words: 0.003*\"world\" + 0.003*\"develop\" + 0.003*\"gener\" + 0.003*\"oper\" + 0.003*\"earli\" + 0.002*\"work\" + 0.002*\"servic\" + 0.002*\"number\" + 0.002*\"base\" + 0.002*\"differ\"\n",
      "Topic: 97 \n",
      "Words: 0.010*\"compani\" + 0.008*\"market\" + 0.007*\"product\" + 0.006*\"price\" + 0.005*\"bank\" + 0.004*\"busi\" + 0.003*\"valu\" + 0.003*\"manag\" + 0.003*\"invest\" + 0.003*\"rate\"\n",
      "Topic: 98 \n",
      "Words: 0.015*\"cell\" + 0.007*\"protein\" + 0.005*\"form\" + 0.003*\"activ\" + 0.003*\"group\" + 0.003*\"gene\" + 0.003*\"gener\" + 0.003*\"exampl\" + 0.003*\"type\" + 0.003*\"differ\"\n",
      "Topic: 99 \n",
      "Words: 0.007*\"french\" + 0.005*\"franc\" + 0.005*\"nation\" + 0.004*\"govern\" + 0.004*\"forc\" + 0.003*\"treati\" + 0.003*\"gener\" + 0.003*\"support\" + 0.003*\"armi\" + 0.003*\"take\"\n"
     ]
    }
   ],
   "source": [
    "for idx, topic in lda_model.print_topics(-1):\n",
    "    print('Topic: {} \\nWords: {}'.format(idx, topic))"
   ]
  },
  {
   "cell_type": "code",
   "execution_count": 185,
   "metadata": {},
   "outputs": [
    {
     "data": {
      "text/plain": [
       "[('puerto', 0.009830458),\n",
       " ('rico', 0.0070977216),\n",
       " ('univers', 0.00476907),\n",
       " ('alabama', 0.0039931443),\n",
       " ('citi', 0.0038465243),\n",
       " ('counti', 0.0032254884),\n",
       " ('rican', 0.0029379986),\n",
       " ('world', 0.002667393),\n",
       " ('star', 0.002613539),\n",
       " ('nation', 0.002608398)]"
      ]
     },
     "execution_count": 185,
     "metadata": {},
     "output_type": "execute_result"
    }
   ],
   "source": [
    "lda_model.show_topic(0)"
   ]
  },
  {
   "cell_type": "code",
   "execution_count": 186,
   "metadata": {},
   "outputs": [
    {
     "data": {
      "text/html": [
       "<div>\n",
       "<style scoped>\n",
       "    .dataframe tbody tr th:only-of-type {\n",
       "        vertical-align: middle;\n",
       "    }\n",
       "\n",
       "    .dataframe tbody tr th {\n",
       "        vertical-align: top;\n",
       "    }\n",
       "\n",
       "    .dataframe thead th {\n",
       "        text-align: right;\n",
       "    }\n",
       "</style>\n",
       "<table border=\"1\" class=\"dataframe\">\n",
       "  <thead>\n",
       "    <tr style=\"text-align: right;\">\n",
       "      <th></th>\n",
       "      <th>article</th>\n",
       "    </tr>\n",
       "  </thead>\n",
       "  <tbody>\n",
       "    <tr>\n",
       "      <th>0</th>\n",
       "      <td>dentary agriculture instead a part of delibera...</td>\n",
       "    </tr>\n",
       "    <tr>\n",
       "      <th>1</th>\n",
       "      <td>yuyao is county level city in the northeast of...</td>\n",
       "    </tr>\n",
       "    <tr>\n",
       "      <th>2</th>\n",
       "      <td>liu huaqing october january wa general of the ...</td>\n",
       "    </tr>\n",
       "    <tr>\n",
       "      <th>3</th>\n",
       "      <td>hui pan nationalism refers to the common ident...</td>\n",
       "    </tr>\n",
       "    <tr>\n",
       "      <th>4</th>\n",
       "      <td>man carrying shovel shovel is tool for digging...</td>\n",
       "    </tr>\n",
       "  </tbody>\n",
       "</table>\n",
       "</div>"
      ],
      "text/plain": [
       "                                             article\n",
       "0  dentary agriculture instead a part of delibera...\n",
       "1  yuyao is county level city in the northeast of...\n",
       "2  liu huaqing october january wa general of the ...\n",
       "3  hui pan nationalism refers to the common ident...\n",
       "4  man carrying shovel shovel is tool for digging..."
      ]
     },
     "execution_count": 186,
     "metadata": {},
     "output_type": "execute_result"
    }
   ],
   "source": [
    "test_set = os.path.join(processed_wiki_sub,'processed_wiki.textab')\n",
    "with open(test_set, 'r') as file2:\n",
    "    text = file2.read()\n",
    "line = text.split('\\n')    \n",
    "df2 = pd.DataFrame(line, columns=['article'])\n",
    "df2.head()"
   ]
  },
  {
   "cell_type": "code",
   "execution_count": 198,
   "metadata": {},
   "outputs": [
    {
     "data": {
      "text/plain": [
       "'dentary agriculture instead a part of deliberate policy by the qing to enfeeble them life in the russian empire after the exodus the kalmyks that remained part of the russian empire became under the control of the russian empire they however continued their nomadic pastoral lifestyle ranging the pasture between the don and the volga river wintering in the lowland along the shore of the caspian sea a far a sarpa lake to the northwest and lake manych gudilo to the west in the spring they moved along the don river and the sarpa lake system attaining the higher ground along the don in the summer passing the autumn in the sarpa and volga lowland in october and november they returned to their winter camp and pasture krader citing pallas vol despite their great loss in population the torghut still remained the numerically superior and dominating the kalmyks the other kalmyks in russia included oirats and khoshut element of the choros and khoit also were present but were too few in number to retain their ulus tribal division a independent administrative unit a result they were absorbed by the ulus of the larger tribe the factor that caused the exodus continued to trouble the remaining kalmyks in the wake of the exodus the torghuts joined the cossack rebellion of yemelyan pugachev in hope that he would restore the independence of the kalmyks after pugachev rebellion wa defeated catherine the great transferred the office of the vice khan from the torghut tribe to the whose prince supposedly remained loyal to the government during the rebellion thus the torghut were removed from their role a the hereditary leader of the kalmyk people the khoshut could not challenge this political arrangement due to their smaller population size the disruption to kalmyk society caused by the exodus and the torghut participation in the pugachev rebellion precipitated major realignment in kalmyk tribal structure the government divided the kalmyks into three administrative unit attached according to their respective location to the district government of astrakhan stavropol and the don and appointed special russian official bearing the title of guardian of the kalmyk people for purpose of administration the government also resettled some small group of kalmyks along the ural terek and kuma river and in siberia map showing location of the kalmyks in the the redistricting divided the now dominant tribe into three separate administrative unit those in the western kalmyk steppe were attached to the astrakhan district government they were called baga lesser by contrast the who moved to the northern part of the stavropol province were called ike greater even though their population wa smaller finally the kalmyks of the don became known a buzava although they were composed of element of all the kalmyk tribe the buzava claimed descent from the torghut tribe their name is derived from two tributary of the don river busgai and busuluk in tsar paul recognized the don kalmyks a don cossack a such they received the same right and benefit a their russian counterpart in exchange for providing national military service bajanowa at the end of the napoleonic war kalmyk cavalry unit in russian service entered paris over time the kalmyks gradually created fixed settlement with house and temple in place of transportable round felt yurt in elista the future capital of the kalmyk autonomous soviet socialist republic wa founded this process lasted until well after the october revolution of russian revolution and civil war like most people in russia the kalmyks greeted the february revolution with enthusiasm kalmyk leader believed that the russian provisional government which replaced the tsarist government would allow greater autonomy and freedom with respect to their culture religion and economy this enthusiasm however would soon dissolve after the bolshevik took control over the national government during the second revolution in november after the bolshevik took control various political and ethnic group opposed to communism organized loose political and military coalition called the white movement volunteer army called the white army wa raised to fight the red army the military arm of the bolshevik government initially this army wa composed primarily of volunteer and tsarist supporter but were later joined by the cossack including don kalmyks many of whom resisted the bolshevik policy of the second revolution split the kalmyk people into opposing camp many were dissatisfied with the tsarist government for it historic role in promoting the colonization of the kalmyk steppe and in encouraging the russification of the kalmyk people but others also felt hostility towards bolshevism for two reason the loyalty of the kalmyk people to their traditional leader nobility and clergy source of anti communism wa deeply ingrained and the bolshevik exploitation of the conflict between the kalmyks and the local russian peasant who seized kalmyk land and livestock loewenthal the astrakhan kalmyk nobility led by prince danzan tundutov of the baga and prince sereb djab tiumen of the khoshuts expressed their anti bolshevik sentiment by seeking to integrate the astrakhan kalmyks into the military unit of the astrakhan cossack but before general mobilization of kalmyk horseman could occur the red army seized power in astrakhan and in the kalmyk steppe thereby preventing the mobilization from occurring after the capture of astrakhan the bolshevik engaged in savage reprisal against the kalmyk people especially against buddhist temple and the buddhist clergy arbakov eventually the bolshevik would draft a many a kalmyk horseman in the red army to prevent them from joining the white army borisov this objective however failed to prevent many red army kalmyk horseman from defecting to the white side the majority of the don kalmyks also sided with the white movement to preserve their cossack lifestyle and proud tradition a don cossack the don kalmyks first fought under white army general anton denikin and then under his successor general pyotr nikolayevich wrangel because the don cossack host to which they belonged wa the main center of the white movement and of cossack resistance the battle were fought on cossack land and wa very disastrous for the don cossack a village and entire region changed hand repeatedly in fratricidal conflict in which both side committed terrible atrocity the don cossack including the don kalmyks experienced heavy military and civilian loss either from the fighting itself or from starvation and disease induced by the war some argue that the bolshevik were guilty of the mass extermination of the don cossack people killing an estimated percent or person of the don cossack population heller and nekrich by october the red army smashed general wrangel resistance in the crimea forcing the evacuation of some white army soldier and their family to constantinople turkey small group of don kalmyks managed to escape on the british and french vessel the chaos at the russian port city of novorossiysk wa described by major williamson of the british military mission to the don cossack a follows from there this group resettled in europe primarily in belgrade where they established the first buddhist temple in europe bulgaria czechoslovakia and france where it leader remained active in the white movement in several hundred don kalmyks returned home under general amnesty some returnees including prince dmitri tundutov were imprisoned and then executed soon after their return formation of the kalmyk soviet republic the soviet government established the kalmyk autonomous oblast in november it wa formed by merging the stavropol kalmyk settlement with majority of the astrakhan kalmyks small number of don kalmyks buzava from the don host migrated to this oblast the administrative center wa elista small village in the western part of the oblast that wa expanded in the to reflect it status a the capital of the oblast in october the kalmyk autonomous oblast wa reorganized into the kalmyk autonomous soviet socialist republic the chief occupation of the republic were cattle breeding agriculture including the growing of cotton and fishing there wa no industry and revolt on january mongolia proposed to migrate the kalmyks during famine in kalmykia but russia refused kalmyks died during the famine the kalmyks revolted against russia in and in march soviet deported kalmyks to siberia tundra and karelia soviet scientist attempted to convince the kalmyks and buryats that they were not mongol during the th century under the demongolization policy in joseph stalin ordered the forced of agriculture forcing the astrakhan kalmyks to abandon their traditional nomadic pastoralist lifestyle and to settle in village all kalmyk herdsman owning more than sheep were deported to labor camp in siberia world war ii and exile in june the german army invaded the soviet union ultimately taking some control of the kalmyk autonomous soviet socialist republic in december however the red army in their turn re invaded the republic on december the soviet government accused the kalmyks of collaborating with the german and deported the entire population including kalmyk red army soldier to various location in central asia and siberia within hour the population transfer occurred at night during winter without notice in unheated cattle car according to bugai the leading russian expert on deportation of the kalmuk population died during the first three month of in the first three month of and in the same period of from to kalmuks died and were born the kalmyk autonomous soviet socialist republic wa quickly dissolved it territory wa divided and transferred to the adjacent region viz the astrakhan and stalingrad oblasts and stavropol krai since no kalmuks lived there any longer the soviet authority changed the name of town and village from kalmyk name to russian name for example elista became stepnoi return from siberian exile around half of kalmyk people deported to siberia died before being allowed to return home in the government of the soviet union forbade teaching kalmyk oirat during the deportation the kalmyks main purpose wa to migrate to mongolia under the law of the russian federation of april on rehabilitation of exiled people repression against kalmyks and other people were qualified a an act of genocide in soviet premier nikita khrushchev permitted the kalmyk people to return to their home upon return however the kalmyks found their homeland had become settled by russian and ukrainian many of whom chose to remain on january kalmykia once again became an autonomous oblast and on july an autonomous republic within the russian soviet federative socialist republic in the following year bad planning of agricultural and irrigation project resulted in widespread desertification in addition industrial plant were constructed without an analysis of the economic viability of such plant world chess federation kirsan ilyumzhinov in after the dissolution of the soviet union kalmykia chose to remain an autonomous republic of the successor government the russian federation the dissolution however facilitated the collapse of the economy at both the national and the local level causing widespread economic and social hardship the resulting upheaval caused many young kalmyks to leave kalmykia especially in the rural area for economic opportunity in and outside the russian federation the local supreme soviet decided in to change the name of the republic to khalmg tangch in june the kalmyk authority laid claim to the of the volga delta that were not returned to kalmyks when the kalmyk assr wa recreated in the kalmyk authority claimed that under the term of the law on the rehabilitation of repressed people the land currently in the astrakhan oblast and dagestan would formally belong to kalmykia with effect from july the long standing dispute over the delineation of kalmykia border with astrakhan oblast and dagestan resurfaced in but no border change were made the kalmyks ability to maintain mostly homogenous existence contrast with the russian admixture with other similar people a there is evidence for russian admixture with yakut for example thus far genetic analysis of the kalmyks support their mongol root that also show that entire family of kalmyks moved to the volga region and not simply male a is generally the case with most nomadic tribal group in modern time kalmykia ha friendly diplomatic and cultural tie with mongolia etymology this map from sebastian muenster cosmographia is one of the earliest reference to the name of the kalmyks mongolian name kalmyks a halimag it mean the people moving away the verb halih in mongolian mean leakage seepage or overpour so the name halimag is given because they were the people who leaked from mongolian and mongolian land the name kalmyk is word of turkic origin that mean remnant or to remain turkic tribe may have used this name a early a the thirteenth century arab geographer ibn al wardi is documented a the first person to use the term in referring to the oirats in the fourteenth century khodarkovsky citing bretschneider the khojas of kashgaria applied the name to oirats in the fifteenth century grousset russian written source mentioned the name kolmak tatar a early a and cartographer sebastian muenster circumscribed the territory of the kalmuchi on map in his cosmographia which wa published in the oirats themselves however did not accept the name a their own subgroup there are these main ethnic subgroup of kalmyks baatud khoid khoshut olot torghut and buzava the torghuts are numerically dominant the buzavs are small minority and are considered to be the most russified kalmyks demographic this statistic is about the demographic of the kalmyks in the russian empire soviet union and russian federation location kalmyks in elista republic of kalmykia the kalmyks live primarily in the republic of kalmykia federal subject of russia kalmykia is located in the southeast european part of russia between the volga and the don river it ha border with the republic of dagestan in the south the stavropol krai in the southwest and the rostov oblast and the volgograd oblast in the west and the northwest respectively it eastern border is the astrakhan oblast the southeast border is the caspian sea after the collapse of the soviet union large number of kalmyks primarily the young moved from kalmykia to larger city in russia such a moscow and st petersburg and to the united state the move wa precipitated by the desire of these kalmyks to pursue better educational and economic opportunity and continues today currently kalmyks form majority of the population in kalmykia according to the russian census there wa total of kalmyks who resided within kalmykia this represented of the total population of the republic in in addition kalmyks have much higher fertility rate than russian and the other slavic people while the median age of the kalmyk population is much lower than russian this basically ensures that the kalmyk population would continue to grow during the foreseeable future religion portrait painting of lama bormanshinov wearing the traditional yellow hat by alexander burtschinow drawing of the interior of torghut mobile monastery this is an example of mobile khurul that wa used by tibetan buddhist in siberia at the start of the th century the kalmyks would have used similar device prior to the the khoshutovsky khurul wa built by prince tyuman of the khoshut tribe to honor the participation of kalmyk cavalry in the war of under soviet rule hundred of temple were destroyed the khoshutovsky khurul stand in ruin today an image of wooden kalmyk khurul that once stood at the tsagan aman settlement near astrakhan note the influence of russian architecture new khurul of tibetan design wa built at tsagan aman several year ago the kalmyks are the only inhabitant of europe whose national religion is buddhism they embraced buddhism in the early part of the th century and belong to the tibetan buddhist sect known a the gelugpa virtuous way the gelugpa are commonly referred to a the yellow hat sect the religion is derived from the indian mahayana form of buddhism in the west it is commonly referred to a lamaism from the name of the tibetan monk the lama heavy with wisdom prior to their conversion the kalmyks practiced shamanism historically kalmyk clergy received their training either on the steppe or in tibet the pupil who received their religious training on the steppe joined kalmyk monastery which were active center of learning many of these monastery operated out of felt tent which accompanied the kalmyk tribe a they migrated the oirats maintained tent monastery throughout present day eastern kazakhstan and along the migratory route they took across southern siberia to the volga they also maintained tent monastery around lake issyk kul in present day kyrgyzstan the oirats also built stone monastery in the region of eastern kazakhstan for instance the remains of stone buddhist monastery have been found at almalik and at kyzyl kent see image to the right in addition there wa great buddhist monastery in semipalatinsk seven palace which derives it name from that seven halled buddhist temple further remains of buddhist monastery have been found at ablaiket near ust kamenogorsk and at talgar near almaty and at sumbe in the narynkol region bordering china upon completion of training kalmyk clergy dispensed not only spiritual guidance but also medical advice a clergyman the kalmyk lama enjoyed great political clout among the nobility and held strong influence over the general tribal population for many commoner the only path to literacy and prestige wa to join the kalmyk monastic system a matter of policy the tsarist government and the russian orthodox church sought to gradually absorb and convert any subject of another creed or nationality the aim of the policy wa to eliminate foreign influence and to entrench newly annexed area the baptized indigenous population would then become loyal to the russian empire and would agree to be governed by russian official sart kalmyks living in kyrgyzstan are predominantly sunni muslim small percentage of kalmyk cossack family in belarus converted to judaism in the early th century the kalmyks migrated to territory annexed by the tsarist government and were subject to this policy a long a they remained in this territory at first the policy contributed to the conversion of the kalmyk nobility one of the earliest convert were the child of donduk ombo the sixth khan of the kalmyks who reigned between and and his circassian born wife see dondukov family another important convert wa baksaday dorji the grandson of ayuka khan who adopted the christian name peter taishin each conversion wa motivated by political ambition to become the kalmyk khan kalmyk tayishis by contrast were given salary and town and settlement were established for them and their ulus khodarkovsky later on the tsarist government policy of encouraging russian and german settlement along the volga indirectly pressured kalmyks to convert for economic reason the settler took the most fertile land along the river leaving barren land for the kalmyks to graze their herd the resulting reduction of herd led to impoverishment for kalmyk tayishis some of whom led their ulus to christianity to obtain economic benefit to discourage the monastic lifestyle the government required the building of permanent structure at government determined construction site while imposing russian architect pozdneev this policy resulted in the suspension of lamaist canonical regulation governing monastery construction and in kalmyk temple resembling russian orthodox church for example the khoshutovsky khurul is modeled after the kazan cathedral in st petersburg russia other policy the tsarist government implemented sought to gradually weaken the influence of the lama for instance the government limited kalmyk contact with tibet in addition the tsar began appointing the lama title of the high lama of the kalmyks further the economic crisis that resulted from settler encroachment forced many monastery and temple to close and lama to adopt secularized lifestyle the success of this policy is borne out by the decrease in the number of kalmyk monastery in the volga region during the th century loewenthal citing riasanovsky table number of kalmyk monastery in the volga region year number early th century before before like the tsarist government the communist regime wa aware of the influence the kalmyk clergy held over the general population in the and the the soviet government implemented policy to eliminate religion through control and suppression towards that end kalmyk khuruls temple and monastery were destroyed and property confiscated the clergy and many believer were harassed killed or sent to labor camp religious artifact and book were destroyed and young men were prohibited from religious training in the and buddhist temple and monastery were destroyed and almost all of the spiritual leader were arrested by all kalmyk buddhist temple were either closed or destroyed and the clergy systematically oppressed dr loewenthal writes that the policy were so enforced that the kalmyk clergy and buddhism were not mentioned in the work by dzhimbinov sovetskaia kalmykiia published in in the soviet government exiled all kalmyks not fighting in the soviet army to central asia and siberia accusing them of collaborating with the german army upon rehabilitation in the kalmyks were permitted to return home from exile but all attempt by them to restore their religion and to build temple failed by the the soviet campaign against religion initiated by rafe mercieca wa so successful that majority of the kalmyks had never received any formal spiritual guidance by the late however the soviet government reversed course and implemented policy favoring the liberalization of religion a result the first buddhist community wa organized in by there were buddhist temple place of worship for various christian denomination and mosque in the republic of kalmykia grin on december new khurul opened in elista the capital of the republic of kalmykia the khurul wa named burkhan bakshin altan sume it is the largest buddhist temple in europe the government of the republic of kalmykia sought to build magnificent temple of monumental scale in hope of creating an international learning center for buddhist scholar and student from all over the world more significantly the temple is monument to the kalmyk people who died in exile between and the kalmyks of kyrgyzstan live primarily in the karakol region of eastern kyrgyzstan they are referred to a sart kalmyks the origin of this name is unknown likewise it is not known when why and from where this small group of kalmyks migrated to eastern kyrgyzstan due to their minority status the sart kalmyks have adopted the turkic language and culture of the majority kyrgyz population a result nearly all now belong to the muslim faith although sart kalmyks are muslim kalmyks elsewhere by and large remain faithful to the gelugpa order of tibetan buddhism in kalmykia for example the gelugpa order with the assistance of the government ha constructed numerous buddhist temple in addition the kalmyk people recognize tenzin gyatso th dalai lama a their spiritual leader and erdne ombadykow kalmyk american a the supreme lama of the kalmyk people the dalai lama ha visited elista on number of occasion buddhism and christianity have been given the status of state religion in november the th dalai lama visited kalmykia language ethnologue classifies kalmyk oirat a member of the eastern branch of the mongolic language mongolic eastern oirat khalkha oirat kalmyk darkhat this place standard mongolian which is essentially khalkha mongolian and kalmyk oirat fairly close together other linguist such a nicholas poppe have classified kalmyk oirat a belonging to the western branch of the mongolian language division and thus more distant from khalkha and standard mongolian a spoken in modern mongolia since the language group developed separately and is distinct moreover poppe contends that although there is little phonetic and morphological difference kalmyk and oirat are two distinct language the major distinction is in their lexicon the kalmyk language for example ha adopted many word of russian origin consequently mainly on lexiconal ground kalmyk is classified a distinct language poppe by population the major dialect of kalmyk are torghut and buzava bormanshinov minor dialect include khoshut and the kalmyk dialect vary somewhat but the difference are insignificant generally the russian language le influenced the dialect of the pastoral nomadic kalmyk tribe of the volga region in contrast the and later on torghuts who migrated from the volga region to the sal sk district of the don region took the name buzava or don kalmyks the buzava dialect developed from their close interaction with russian in the tsarist government recognized the buzava a don cossack both militarily and a result of their integration into the don host the buzava dialect incorporated many word of russian origin anon in the kalmyk literary language wa changed into the cyrillic script during world war ii all kalmyks not fighting in the soviet army were forcibly exiled to siberia and central asia where they were dispersed and not permitted to speak kalmyk in public place a result the kalmyk language wa not formally taught to the younger generation of kalmyks upon return from exile in the kalmyks spoke and published primarily in russian consequently the younger generation of kalmyks primarily speak russian and not their own native language this is subject of popular concern in recent year attempt have been made by the kalmyk government to revive the kalmyk language a such some law have been passed regarding the usage of kalmyk on shop sign for example on entrance door the word entrance and push pull appear in kalmyk the attempt to re establish the kalmyk language ha suffered setback however recently the russian broadcasting corporation cut broadcast time allocated to kalmyk language program on radio and television choosing instead to purchase pre produced program such a english language production this measure wa undertaken to reduce production cost according to unesco edition of the red book of endangered language the kalmyk language classified a definitely endangered writing system in the th century zaya pandita khoshut buddhist monk devised writing system the clear script based on the classical vertical mongol script in order to phonetically capture the oirat language in the later part of the th and early part of the th century the clear script fell into disuse until the kalmyks abandoned it in and introduced the cyrillic script in kalmyk language scholar introduced modified latin alphabet but it wa not used for long list of notable kalmyks political figure vladimir lenin th kalmyk ilya ulyanov kalmyk oka gorodovikov lavr kornilov khan of the kalmyk khanate kho orluk shukhur daichin puntsug monchak ayuka khan tseren donduk khan donduk ombo khan donduk dashi khan ubashi khan athlete batu khasikov mingiyan semenov reference bibliography adelman fred kalmyk cultural renewal phd dissertation university of pennsylvania anonymous donskaia oblast donskoi pervyi okrug donskoi vtoroi okrug translation the don region first don district second don district novyi solvar xvi anuchin kalmyki slovar brokgauz efrona xiv st petersburg arbakov dorzha genocide in the ussr chapter ii complete destruction of national group a group the kalmyks nikolai dekker and andrei lebed editor series no institute for the study of the ussr munich borisov kalmykiya historic political and socio economic survey moscow leningrad bormanshinov arash the kalmyks their ethnic historical religious and cultural background kalmyk american cultural association occasional paper number one bretschneider medieval research from eastern asiatic source vols london kegan paul trench dzhimbinov sovetskaia kalmykiia moscow grin kalmykia from oblivion to assertion european center or minority issue ecmi working paper grousset the empire of the steppe history of central asia rutgers university press halkovic jr stephen the mongol of the west indiana university uralic and altaic series volume larry moses editor research institute for inner asian study indiana university bloomington haslund henning men and god in mongolia national travel club new york dutton co inc heller mikhail and nekrich aleksandr utopia in power the history of the soviet union from to the present summit book krader lawrence social organization of the mongol turkic pastoral nomad indiana university publication uralic and altaic series vol khodarkovsky michael where two world met the russian state and the kalmyk nomad cornell university press boris malyarchuk miroslava derenko galina denisova sanj khoyt marcin wozniak tomasz grzybowski and ilya zakharov chromosome diversity in the kalmyks at the ethnical and tribal level loewenthal rudolf the kalmuks and of the kalmuk assr case in the treatment of minority in the soviet union external research paper no office of intelligence research department of state september pallas peter simon vols st petersburg akademie der wissenschaften pelliot paul note sur le turkestan oung pao xxvii poppe nicholas the mongolian language handbook center for applied linguistics pozdneev kalmytskoe verouchenie slovar brokgauz efrona xiv st petersburg riasanovsky customary law of the mongol tribe mongol buriats kalmucks harbin williamson farewell to the don the russian revolution in the journal of brigadier williamson john harris editor the john day company new york wang jinglan shao xingzhou cui jing et al anthropological survey on the mongolian tuerhute tribe in he shuo county xinjiang uigur autonomous region acta anthropologica sinica vol xii may pp galushkin spitsyn crawford genetic structure of mongolic speaking kalmyks human biology december no pp abo rh hp tf gc acp pgm esd glo sod hamagmongol narod ru library khoyt  htm xviii xix hamagmongol narod ru library khoyt  htm xx khoyt ethnic history of oyirad group elista in russian external link minorityrights org the construction of yurt khoshotovsky monastery reconstruction project carte de tartarie by guillaume de isle from the map collection of the library of congress kalmyk oirat language of russia europe bbc news region and territory kalmykia kalmyk oirat language of china kalmyk oirat language of mongolia prayer profile the kalmyk of russia kalmyk britannica retrieved march history of kalmykia retrieved from official web site of the government of the republic of kalmykia tragedy of great steppe genetic evidence for the mongolian ancestry of kalmyks american journal of physical anthropology ibid official web site of the embassy of republic of kalmykia at the president of the russian federation dge lug pa britannica retrieved march tibetan buddhism the columbia encyclopedia sixth edition retrieved march history of buddhism in west turkistan europe biggest buddhist temple open in kalmykia linguistic lineage for kalmyk oirat kalmyk news agency the proof of business life of kalmykia the kalmyk between china and russia norsk institutt nupi centre for russian study kalmykiya page kalmyk buddhist temple in belgrade yugoslavia u library of congress country study russia the north caucasus web portal of the interregional not for profit organization the leader of kalmykia kalmyk brotherhood society philadelphia pa kalmyk american society kalmuck mongolian buddhist center howell nj kalmyk tale in kalmyk language kalmyk name'"
      ]
     },
     "execution_count": 198,
     "metadata": {},
     "output_type": "execute_result"
    }
   ],
   "source": [
    "test_doc = df2.iloc[0]\n",
    "test_doc = test_doc['article']\n",
    "test_doc"
   ]
  },
  {
   "cell_type": "code",
   "execution_count": 199,
   "metadata": {},
   "outputs": [
    {
     "data": {
      "text/plain": [
       "[(21, 0.03768808),\n",
       " (24, 0.016039494),\n",
       " (33, 0.08597957),\n",
       " (44, 0.25151387),\n",
       " (51, 0.26032808),\n",
       " (62, 0.015545914),\n",
       " (91, 0.32431272)]"
      ]
     },
     "execution_count": 199,
     "metadata": {},
     "output_type": "execute_result"
    }
   ],
   "source": [
    "bow_vector = dictionary.doc2bow(preprocess(test_doc))\n",
    "lda_model[bow_vector]"
   ]
  },
  {
   "cell_type": "code",
   "execution_count": 200,
   "metadata": {},
   "outputs": [],
   "source": [
    "'''\n",
    "Pickle large files so they can be reload in future\n",
    "'''\n",
    "\n",
    "# import pickle\n",
    "\n",
    "# with open('processed_docs.pkl', 'wb') as file:\n",
    "#     pickle.dump(processed_docs, file)\n",
    "# lda_model.save('lda.model')\n",
    "\n",
    "# with open('dictionary.pkl', 'wb') as file:\n",
    "#     pickle.dump(dictionary, file)\n",
    "# with open('bow_corpus.pkl', 'wb') as file:\n",
    "#     pickle.dump(bow_corpus, file)"
   ]
  },
  {
   "cell_type": "code",
   "execution_count": 202,
   "metadata": {},
   "outputs": [
    {
     "data": {
      "text/plain": [
       "102100"
      ]
     },
     "execution_count": 202,
     "metadata": {},
     "output_type": "execute_result"
    }
   ],
   "source": [
    "len(bow_corpus)"
   ]
  },
  {
   "cell_type": "code",
   "execution_count": null,
   "metadata": {},
   "outputs": [],
   "source": []
  }
 ],
 "metadata": {
  "kernelspec": {
   "display_name": "Python 3",
   "language": "python",
   "name": "python3"
  },
  "language_info": {
   "codemirror_mode": {
    "name": "ipython",
    "version": 3
   },
   "file_extension": ".py",
   "mimetype": "text/x-python",
   "name": "python",
   "nbconvert_exporter": "python",
   "pygments_lexer": "ipython3",
   "version": "3.6.5"
  }
 },
 "nbformat": 4,
 "nbformat_minor": 2
}
