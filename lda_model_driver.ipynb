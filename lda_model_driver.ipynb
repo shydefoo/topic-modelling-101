{
 "cells": [
  {
   "cell_type": "code",
   "execution_count": 1,
   "metadata": {},
   "outputs": [],
   "source": [
    "import os\n",
    "import pandas as pd\n",
    "import gensim\n",
    "import nltk\n",
    "import tempfile\n",
    "\n",
    "from gensim.utils import simple_preprocess \n",
    "from gensim.parsing.preprocessing import STOPWORDS\n",
    "from nltk.stem import WordNetLemmatizer, SnowballStemmer\n",
    "from nltk.stem.porter import *\n",
    "import numpy as np\n",
    "import pickle\n",
    "from gensim.models import LdaMulticore\n",
    "stemmer = PorterStemmer()"
   ]
  },
  {
   "cell_type": "code",
   "execution_count": 2,
   "metadata": {},
   "outputs": [],
   "source": [
    "home = os.path.expanduser('~')\n",
    "repo_path = 'Documents/repos/mystuff/lda101' #change to path of repo\n",
    "repo = os.path.join(home, repo_path) \n",
    "pickled_data = os.path.join(repo, 'pickled_data')\n",
    "models = os.path.join(repo,'models')"
   ]
  },
  {
   "cell_type": "code",
   "execution_count": 3,
   "metadata": {},
   "outputs": [],
   "source": [
    "postfix = 'abcdefghijklmno'\n",
    "def _assemble_w2v_file(postfix):\n",
    "    processed_docs = tempfile.NamedTemporaryFile(mode='ab', delete=True)\n",
    "\n",
    "    for letter in postfix:\n",
    "        fname = os.path.join(pickled_data,'processed_docs.pkl.a'+letter)\n",
    "        with open(fname, 'rb') as infile:\n",
    "            processed_docs.write(infile.read())\n",
    "\n",
    "    return processed_docs\n",
    "\n",
    "def preprocess(text):\n",
    "    result = []\n",
    "    # convert document into list of lowercase tokens, filter based on token length\n",
    "    for token in simple_preprocess(text):\n",
    "        if token not in STOPWORDS and len(token) > 3:\n",
    "            result.append(lemmatize_stemming(token))\n",
    "    return result\n",
    "    "
   ]
  },
  {
   "cell_type": "code",
   "execution_count": 4,
   "metadata": {},
   "outputs": [],
   "source": [
    "with _assemble_w2v_file(postfix) as processed_docs_file:\n",
    "    f = open(processed_docs_file.name,'rb')\n",
    "    processed_docs = pickle.load(f)\n",
    "    f.close()\n",
    "# load models and data\n",
    "with open(os.path.join(repo,'dictionary.pkl'), 'rb') as file:\n",
    "    dictionary = pickle.load(file)\n",
    "with open(os.path.join(repo,'bow_corpus.pkl'), 'rb') as file:\n",
    "    bow_corpus = pickle.load(file)\n",
    "#bow_corpus = [dictionary.doc2bow(doc) for doc in processed_docs] # bow rep for each article\n",
    "lda_model = LdaMulticore.load(os.path.join(models, 'lda.model'))\n"
   ]
  },
  {
   "cell_type": "code",
   "execution_count": 5,
   "metadata": {},
   "outputs": [],
   "source": [
    "class LDAModelDriver:\n",
    "    def __init__(self, dictionary, bow_corpus, lda_model):\n",
    "        self.dictionary = dictionary\n",
    "        self.bow_corpus = bow_corpus\n",
    "        self.lda_model = lda_model\n",
    "    \n",
    "    def lemmatize_stemming(self, text):\n",
    "        '''\n",
    "        lemmatize text, without pos tag, lemmatizer treats every word as noun. pos='v' tells lemmatizer to treat \n",
    "        each word as verb.\n",
    "        '''\n",
    "        word = WordNetLemmatizer().lemmatize(text, pos='v')\n",
    "        return stemmer.stem(word)\n",
    "    \n",
    "    def preprocess(self, text):\n",
    "        result = []\n",
    "        # convert document into list of lowercase tokens, filter based on token length\n",
    "        for token in simple_preprocess(text):\n",
    "            if token not in STOPWORDS and len(token) > 3:\n",
    "                result.append(self.lemmatize_stemming(token))\n",
    "        return result\n",
    "\n",
    "    def model_topics(self, text):\n",
    "        bow_vector = self.dictionary.doc2bow(self.preprocess(text))\n",
    "        for index, score in sorted(self.lda_model[bow_vector], key=lambda tup: -1*tup[1]):\n",
    "            print(\"Score: {}\\t Topic: {}\".format(score, self.lda_model.print_topic(index, 5)))"
   ]
  },
  {
   "cell_type": "code",
   "execution_count": 8,
   "metadata": {},
   "outputs": [
    {
     "name": "stdout",
     "output_type": "stream",
     "text": [
      "Prasing article..\n",
      "Score: 0.24093927443027496\t Topic: 0.011*\"parti\" + 0.008*\"govern\" + 0.008*\"elect\" + 0.006*\"polit\" + 0.005*\"minist\"\n",
      "Score: 0.21739086508750916\t Topic: 0.010*\"compani\" + 0.008*\"market\" + 0.007*\"product\" + 0.006*\"price\" + 0.005*\"bank\"\n",
      "Score: 0.19398191571235657\t Topic: 0.009*\"econom\" + 0.007*\"social\" + 0.006*\"develop\" + 0.006*\"countri\" + 0.005*\"world\"\n",
      "Score: 0.17923152446746826\t Topic: 0.009*\"water\" + 0.005*\"form\" + 0.004*\"temperatur\" + 0.004*\"speci\" + 0.004*\"plant\"\n",
      "Score: 0.09016352146863937\t Topic: 0.011*\"german\" + 0.006*\"germani\" + 0.006*\"soviet\" + 0.004*\"nation\" + 0.004*\"poland\"\n",
      "Score: 0.03422001004219055\t Topic: 0.018*\"film\" + 0.010*\"award\" + 0.004*\"best\" + 0.004*\"world\" + 0.003*\"work\"\n",
      "Score: 0.03416198492050171\t Topic: 0.005*\"rifl\" + 0.005*\"dutch\" + 0.004*\"russian\" + 0.004*\"bear\" + 0.004*\"citi\"\n"
     ]
    }
   ],
   "source": [
    "from nytimes_scraper import get_text\n",
    "lda_model_driver = LDAModelDriver(dictionary, bow_corpus, lda_model)\n",
    "url = 'https://www.nytimes.com/2018/10/21/world/europe/russia-europe-fertilizer-regulation.html?action=click&module=Top%20Stories&pgtype=Homepage'\n",
    "lda_model_driver.model_topics(get_text(url))"
   ]
  },
  {
   "cell_type": "code",
   "execution_count": null,
   "metadata": {},
   "outputs": [],
   "source": []
  }
 ],
 "metadata": {
  "kernelspec": {
   "display_name": "Python 3",
   "language": "python",
   "name": "python3"
  },
  "language_info": {
   "codemirror_mode": {
    "name": "ipython",
    "version": 3
   },
   "file_extension": ".py",
   "mimetype": "text/x-python",
   "name": "python",
   "nbconvert_exporter": "python",
   "pygments_lexer": "ipython3",
   "version": "3.6.5"
  }
 },
 "nbformat": 4,
 "nbformat_minor": 2
}
