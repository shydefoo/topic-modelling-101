{
 "cells": [
  {
   "cell_type": "code",
   "execution_count": 1,
   "metadata": {},
   "outputs": [],
   "source": [
    "import os\n",
    "import pandas as pd\n",
    "import gensim\n",
    "import nltk\n",
    "import tempfile\n",
    "\n",
    "from gensim.utils import simple_preprocess \n",
    "from gensim.parsing.preprocessing import STOPWORDS\n",
    "from nltk.stem import WordNetLemmatizer, SnowballStemmer\n",
    "from nltk.stem.porter import *\n",
    "import numpy as np\n",
    "import pickle\n",
    "from gensim.models import LdaMulticore\n",
    "stemmer = PorterStemmer()"
   ]
  },
  {
   "cell_type": "code",
   "execution_count": 2,
   "metadata": {},
   "outputs": [],
   "source": [
    "home = os.path.expanduser('~')\n",
    "repo_path = 'Documents/repos/mystuff/lda101' #change to path of repo\n",
    "repo = os.path.join(home, repo_path) \n",
    "pickled_data = os.path.join(repo, 'pickled_data')\n",
    "models = os.path.join(repo,'models')"
   ]
  },
  {
   "cell_type": "code",
   "execution_count": 3,
   "metadata": {},
   "outputs": [],
   "source": [
    "postfix = 'abcdefghijklmno'\n",
    "def _assemble_w2v_file(postfix):\n",
    "    processed_docs = tempfile.NamedTemporaryFile(mode='ab', delete=True)\n",
    "\n",
    "    for letter in postfix:\n",
    "        fname = os.path.join(pickled_data,'processed_docs.pkl.a'+letter)\n",
    "        with open(fname, 'rb') as infile:\n",
    "            processed_docs.write(infile.read())\n",
    "\n",
    "    return processed_docs    "
   ]
  },
  {
   "cell_type": "code",
   "execution_count": 4,
   "metadata": {},
   "outputs": [],
   "source": [
    "with _assemble_w2v_file(postfix) as processed_docs_file:\n",
    "    f = open(processed_docs_file.name,'rb')\n",
    "    processed_docs = pickle.load(f)\n",
    "    f.close()\n",
    "# load models and data\n",
    "with open(os.path.join(repo,'dictionary.pkl'), 'rb') as file:\n",
    "    dictionary = pickle.load(file)\n",
    "with open(os.path.join(repo,'bow_corpus.pkl'), 'rb') as file:\n",
    "    bow_corpus = pickle.load(file)\n",
    "#bow_corpus = [dictionary.doc2bow(doc) for doc in processed_docs] # bow rep for each article\n",
    "lda_model = LdaMulticore.load(os.path.join(models, 'lda.model'))\n"
   ]
  },
  {
   "cell_type": "code",
   "execution_count": 5,
   "metadata": {},
   "outputs": [],
   "source": [
    "class LDAModelDriver:\n",
    "    def __init__(self, dictionary, bow_corpus, lda_model):\n",
    "        self.dictionary = dictionary\n",
    "        self.bow_corpus = bow_corpus\n",
    "        self.lda_model = lda_model\n",
    "    \n",
    "    def lemmatize_stemming(self, text):\n",
    "        '''\n",
    "        lemmatize text, without pos tag, lemmatizer treats every word as noun. pos='v' tells lemmatizer to treat \n",
    "        each word as verb.\n",
    "        '''\n",
    "        word = WordNetLemmatizer().lemmatize(text, pos='v')\n",
    "        return stemmer.stem(word)\n",
    "    \n",
    "    def preprocess(self, text):\n",
    "        result = []\n",
    "        # convert document into list of lowercase tokens, filter based on token length\n",
    "        for token in simple_preprocess(text):\n",
    "            if token not in STOPWORDS and len(token) > 3:\n",
    "                result.append(self.lemmatize_stemming(token))\n",
    "        return result\n",
    "\n",
    "    def model_topics(self, text):\n",
    "        bow_vector = self.dictionary.doc2bow(self.preprocess(text))\n",
    "        for index, score in sorted(self.lda_model[bow_vector], key=lambda tup: -1*tup[1]):\n",
    "            print(\"Score: {}\\t Topic: {}\".format(score, self.lda_model.print_topic(index, 5)))"
   ]
  },
  {
   "cell_type": "code",
   "execution_count": 15,
   "metadata": {},
   "outputs": [
    {
     "name": "stdout",
     "output_type": "stream",
     "text": [
      "Prasing article..\n",
      "200\n",
      "Score: 0.5117155313491821\t Topic: 0.017*\"island\" + 0.005*\"park\" + 0.005*\"nation\" + 0.005*\"citi\" + 0.005*\"north\"\n",
      "Score: 0.29152533411979675\t Topic: 0.008*\"speci\" + 0.006*\"sexual\" + 0.005*\"anim\" + 0.004*\"human\" + 0.004*\"male\"\n",
      "Score: 0.12298126518726349\t Topic: 0.012*\"seri\" + 0.011*\"episod\" + 0.007*\"film\" + 0.007*\"star\" + 0.006*\"anim\"\n",
      "Score: 0.0701688900589943\t Topic: 0.023*\"game\" + 0.014*\"team\" + 0.013*\"player\" + 0.010*\"season\" + 0.008*\"play\"\n"
     ]
    }
   ],
   "source": [
    "from scrapers.bbc_scraper import BBCScraper\n",
    "scraper = BBCScraper\n",
    "lda_model_driver = LDAModelDriver(dictionary, bow_corpus, lda_model)\n",
    "url = 'https://www.bbc.com/news/science-environment-45918770'\n",
    "lda_model_driver.model_topics(scraper.get_text(url))"
   ]
  },
  {
   "cell_type": "code",
   "execution_count": 17,
   "metadata": {},
   "outputs": [
    {
     "name": "stdout",
     "output_type": "stream",
     "text": [
      "Score: 0.38810989260673523\t Topic: 0.007*\"airlin\" + 0.007*\"univers\" + 0.006*\"compani\" + 0.005*\"engin\" + 0.005*\"aircraft\"\n",
      "Score: 0.2543071508407593\t Topic: 0.011*\"parti\" + 0.008*\"govern\" + 0.008*\"elect\" + 0.006*\"polit\" + 0.005*\"minist\"\n",
      "Score: 0.13664384186267853\t Topic: 0.026*\"school\" + 0.009*\"colleg\" + 0.005*\"univers\" + 0.004*\"student\" + 0.004*\"educ\"\n",
      "Score: 0.08387739956378937\t Topic: 0.009*\"econom\" + 0.007*\"social\" + 0.006*\"develop\" + 0.006*\"countri\" + 0.005*\"world\"\n",
      "Score: 0.0505591444671154\t Topic: 0.009*\"file\" + 0.007*\"window\" + 0.006*\"version\" + 0.006*\"user\" + 0.006*\"chess\"\n",
      "Score: 0.029956869781017303\t Topic: 0.017*\"album\" + 0.014*\"record\" + 0.014*\"music\" + 0.012*\"band\" + 0.010*\"song\"\n",
      "Score: 0.02955508604645729\t Topic: 0.011*\"chines\" + 0.008*\"dynasti\" + 0.008*\"roman\" + 0.006*\"china\" + 0.005*\"emperor\"\n",
      "Score: 0.023050619289278984\t Topic: 0.008*\"stori\" + 0.008*\"book\" + 0.007*\"write\" + 0.007*\"novel\" + 0.006*\"publish\"\n"
     ]
    }
   ],
   "source": [
    "text = \"\"\"Nanyang Technological University (NTU) said yesterday (Oct 8) that it “regrets” holding a career fair last month mostly for top-performing students only, adding that it will open the event to the entire graduating cohort next year.\n",
    "From 2019, regardless of grades, students will be allowed to submit their resumes in advance by posting them on a website for employers to consider. The employers taking part in the NTUtopia career fair will then draw up a shortlist of students to be invited to the event.\n",
    "NTU said this would be a change from the format of the event last month, in which the university itself shortlisted the invitees based on their academic results and co-curricular activity (CCA) records. About 3,600 students or 60 per cent of the graduating cohort were eventually invited.\n",
    "Some students told The Sunday Times, which broke the story, that the event had exclusively targeted those from scholar programmes or with a minimum grade point average of 3.75 out of 5.\n",
    "The criteria sparked an outcry among students, including those invited to the event, with many saying that it was unfair to limit participation based on grades.\n",
    "Others also criticised the NTU move.\n",
    "Chairperson of Government Parliamentary Committee for Education Denise Phua said: “Academic results is only one proxy indicator to determine the suitability of an applicant.\n",
    "“These days, there are jobs that require skills, experiences and attributes not related to one’s academic scores.”\n",
    "Managing partner of executive headhunting firm Leadership Advisory Inc Daniel Soh felt that career fairs were meant for employers to meet a diverse slate of candidates regardless of academic results.\n",
    "Mr Paul Heng, managing director of NeXT Career Consulting Group, said: “To have a targeted career fair spells elitism, which is what we’re supposed to be moving away from.\n",
    "“From a human resource perspective, to be able to perform a job well, you need many more qualities than academic performance - what about soft skills or communication skills?”\n",
    "A spokesman from the Ministry of Education (MOE), which was among 45 participating employers in NTUtopia, told ST earlier that organising exclusive career fairs could “send the wrong message, and our education institutions should avoid that”.\n",
    "On Sept 28, MOE announced a slew of changes to exams and assessments at the primary and secondary school level. Education Minister Ong Ye Kung said the motivation was to move away from a narrow focus on grades and help students discover the joy of learning.\n",
    "In a statement yesterday, Professor Tan Ooi Kiang, NTU’s associate provost (undergraduate education), expressed regret for the controversy. \n",
    "He said: “We acknowledge that by making NTUtopia selective on the basis of academic achievements and CCA records, it may have sent an unintended message about employability factors.”\n",
    "“Moving forward, NTU will encourage employers to look at a broader set of criteria, such as CCA involvement and leadership, internship experience and overseas exposure,” he added.\n",
    "By the end of this month, all NTU graduating students will be invited to upload their resumes on a website that major employers, including the 45 that participated in NTUtopia, can access.\n",
    "This means students who missed out on last month’s NTUtopia can still be considered by the participating employers.\n",
    "Final-year NTU School of Social Sciences student Hee Yu Quan, 24, who was invited to the fair, praised the “prompt and appropriate” action by NTU. \n",
    "“I feel it treats the feedback loop quite seriously,” he told The Straits Times.\"\"\"\n",
    "lda_model_driver.model_topics(text)"
   ]
  },
  {
   "cell_type": "code",
   "execution_count": null,
   "metadata": {},
   "outputs": [],
   "source": []
  }
 ],
 "metadata": {
  "kernelspec": {
   "display_name": "Python 3",
   "language": "python",
   "name": "python3"
  },
  "language_info": {
   "codemirror_mode": {
    "name": "ipython",
    "version": 3
   },
   "file_extension": ".py",
   "mimetype": "text/x-python",
   "name": "python",
   "nbconvert_exporter": "python",
   "pygments_lexer": "ipython3",
   "version": "3.6.5"
  }
 },
 "nbformat": 4,
 "nbformat_minor": 2
}
